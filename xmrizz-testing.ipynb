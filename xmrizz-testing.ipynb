{
 "cells": [
  {
   "cell_type": "code",
   "execution_count": 80,
   "metadata": {},
   "outputs": [],
   "source": [
    "import requests\n",
    "from pprint import PrettyPrinter\n",
    "import tensorflow as tf\n",
    "import json\n",
    "import base64"
   ]
  },
  {
   "cell_type": "code",
   "execution_count": 81,
   "metadata": {},
   "outputs": [
    {
     "name": "stdout",
     "output_type": "stream",
     "text": [
      "{'model_version_status': [{'state': 'AVAILABLE',\n",
      "                           'status': {'error_code': 'OK', 'error_message': ''},\n",
      "                           'version': '1706726960'}]}\n"
     ]
    }
   ],
   "source": [
    "pp = PrettyPrinter()\n",
    "pp.pprint(requests.get('https://emotion-nlp-model-production.up.railway.app/v1/models/emotion-model').json())"
   ]
  },
  {
   "cell_type": "code",
   "execution_count": 82,
   "metadata": {},
   "outputs": [],
   "source": [
    "def prepare_json(text, example_id=1):\n",
    "    feature_spec = {\n",
    "        \"text\": tf.train.Feature(bytes_list=tf.train.BytesList(value=[bytes(text, \"utf-8\")])),\n",
    "    }\n",
    "\n",
    "    example = tf.train.Example(\n",
    "        features=tf.train.Features(feature=feature_spec)).SerializeToString()\n",
    "\n",
    "    result = [{'examples': {'b64': base64.b64encode(example).decode()}}]\n",
    "\n",
    "    return json.dumps(\n",
    "        {\n",
    "            \"signature_name\": \"serving_default\",\n",
    "            \"instances\": result\n",
    "        }\n",
    "    )\n",
    "\n",
    "\n",
    "def get_prediction(text):\n",
    "    response = requests.post(\n",
    "        'https://emotion-nlp-model-production.up.railway.app/v1/models/emotion-model:predict',\n",
    "        data=prepare_json(text)\n",
    "    )\n",
    "    \n",
    "    predict = response.json()['predictions'][0]\n",
    "\n",
    "    if predict[0] > 0.5:\n",
    "        return 'anger'\n",
    "    elif predict[1] > 0.5:\n",
    "        return 'fear'\n",
    "    elif predict[2] > 0.5:\n",
    "        return 'joy'\n",
    "    elif predict[3] > 0.5:\n",
    "        return 'love'\n",
    "    elif predict[4] > 0.5:\n",
    "        return 'sadness'\n",
    "    elif predict[5] > 0.5:\n",
    "        return 'surprise'\n",
    "    else:\n",
    "        return 'unknown'"
   ]
  },
  {
   "cell_type": "code",
   "execution_count": 83,
   "metadata": {},
   "outputs": [
    {
     "data": {
      "text/plain": [
       "'love'"
      ]
     },
     "execution_count": 83,
     "metadata": {},
     "output_type": "execute_result"
    }
   ],
   "source": [
    "test_text = \"I love you\"\n",
    "\n",
    "get_prediction(test_text)"
   ]
  }
 ],
 "metadata": {
  "kernelspec": {
   "display_name": "ml-env",
   "language": "python",
   "name": "python3"
  },
  "language_info": {
   "codemirror_mode": {
    "name": "ipython",
    "version": 3
   },
   "file_extension": ".py",
   "mimetype": "text/x-python",
   "name": "python",
   "nbconvert_exporter": "python",
   "pygments_lexer": "ipython3",
   "version": "3.9.18"
  }
 },
 "nbformat": 4,
 "nbformat_minor": 2
}
